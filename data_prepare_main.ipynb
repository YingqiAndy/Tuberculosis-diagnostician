{
  "cells": [
    {
      "cell_type": "markdown",
      "source": [
        "Data preparation\n",
        "\n",
        "Process raw data and save processed images\n",
        "\n",
        "Due to an imbalance in the raw data structure (3500 normal + 700 tuberculosis).\n",
        "Perfrom data augmentation to randomly expand tuberculosis images in 4 different ways, making the number of tuberculosis images and normal images are the same (3500) , ensure the balance of data during classification."
      ],
      "metadata": {
        "id": "_dDaJ6NfGJ_B"
      }
    },
    {
      "cell_type": "code",
      "execution_count": null,
      "metadata": {
        "colab": {
          "base_uri": "https://localhost:8080/"
        },
        "id": "_UOrArwrey1O",
        "outputId": "386dfe1c-c3b1-40b2-d537-2be04f63627a"
      },
      "outputs": [
        {
          "output_type": "stream",
          "name": "stdout",
          "text": [
            "Mounted at /content/drive\n"
          ]
        }
      ],
      "source": [
        "from google.colab import drive\n",
        "drive.mount('/content/drive')"
      ]
    },
    {
      "cell_type": "code",
      "execution_count": null,
      "metadata": {
        "colab": {
          "base_uri": "https://localhost:8080/"
        },
        "id": "n95SzXo-nnNs",
        "outputId": "7661612f-635b-4b56-beef-19e456862993"
      },
      "outputs": [
        {
          "output_type": "execute_result",
          "data": {
            "text/plain": [
              "['TB_Chest_Radiography_Database',\n",
              " 'test1.py',\n",
              " 'data_preparation.py',\n",
              " 'processed_images',\n",
              " 'augmented_images',\n",
              " 'processed_images.zip',\n",
              " 'augmented_images.zip',\n",
              " 'unet_model.py',\n",
              " 'visualization.py',\n",
              " 'external train data',\n",
              " 'Untitled1.ipynb',\n",
              " 'datasetprocessing.py',\n",
              " 'external training data',\n",
              " 'external_data',\n",
              " '__pycache__',\n",
              " 'unet_model1.pth',\n",
              " 'train.py',\n",
              " 'main.ipynb',\n",
              " '1000_external_data',\n",
              " '.ipynb_checkpoints',\n",
              " 'unet_model2.pth',\n",
              " 'unet_model3.pth',\n",
              " '100_test_external',\n",
              " '100_val_external',\n",
              " '200_val_external',\n",
              " '200_test_external',\n",
              " 'unet_model4.pth']"
            ]
          },
          "metadata": {},
          "execution_count": 1
        }
      ],
      "source": [
        "import os\n",
        "path=\"/content/drive/MyDrive/Colab Notebooks/BIA4_Group7\"\n",
        "os.chdir(path)\n",
        "os.listdir(path)"
      ]
    },
    {
      "cell_type": "markdown",
      "source": [
        "Run data_preparation.py to process and augment raw data.\n",
        "\n",
        "show data shape."
      ],
      "metadata": {
        "id": "4d77vLvPH6Qo"
      }
    },
    {
      "cell_type": "code",
      "execution_count": null,
      "metadata": {
        "colab": {
          "base_uri": "https://localhost:8080/"
        },
        "id": "9wsXIR_I2zav",
        "outputId": "2d54be36-c82f-4ee4-e17a-6f983a88048b"
      },
      "outputs": [
        {
          "name": "stdout",
          "output_type": "stream",
          "text": [
            "Train set shape: (4900, 512, 512)\n",
            "Validation set shape: (1050, 512, 512)\n",
            "Test set shape: (1050, 512, 512)\n",
            "Whole data set shape: (7000, 512, 512)\n"
          ]
        }
      ],
      "source": [
        "!python data_preparation.py"
      ]
    },
    {
      "cell_type": "markdown",
      "source": [
        "Zip processed images and augmented images."
      ],
      "metadata": {
        "id": "eexmPrZ8IAvq"
      }
    },
    {
      "cell_type": "code",
      "execution_count": null,
      "metadata": {
        "colab": {
          "base_uri": "https://localhost:8080/",
          "height": 35
        },
        "id": "3CL_reAX_1jc",
        "outputId": "674405c3-1cdf-4d37-99d8-f6ae93991a83"
      },
      "outputs": [
        {
          "data": {
            "application/vnd.google.colaboratory.intrinsic+json": {
              "type": "string"
            },
            "text/plain": [
              "'/content/drive/MyDrive/Colab Notebooks/BIA4_Group7/processed_images.zip'"
            ]
          },
          "execution_count": 4,
          "metadata": {},
          "output_type": "execute_result"
        }
      ],
      "source": [
        "import shutil\n",
        "shutil.make_archive('processed_images', 'zip', '/content/drive/MyDrive/Colab Notebooks/BIA4_Group7/processed_images')\n"
      ]
    },
    {
      "cell_type": "code",
      "execution_count": null,
      "metadata": {
        "colab": {
          "base_uri": "https://localhost:8080/",
          "height": 35
        },
        "id": "jVUMcfwCBUje",
        "outputId": "dc9a6665-0ef7-4ae0-fb49-b6ff8c4ad509"
      },
      "outputs": [
        {
          "data": {
            "application/vnd.google.colaboratory.intrinsic+json": {
              "type": "string"
            },
            "text/plain": [
              "'/content/drive/MyDrive/Colab Notebooks/BIA4_Group7/augmented_images.zip'"
            ]
          },
          "execution_count": 5,
          "metadata": {},
          "output_type": "execute_result"
        }
      ],
      "source": [
        "import shutil\n",
        "shutil.make_archive('augmented_images', 'zip', '/content/drive/MyDrive/Colab Notebooks/BIA4_Group7/augmented_images')\n"
      ]
    }
  ],
  "metadata": {
    "accelerator": "GPU",
    "colab": {
      "machine_shape": "hm",
      "provenance": [],
      "gpuType": "V100"
    },
    "kernelspec": {
      "display_name": "Python 3",
      "name": "python3"
    },
    "language_info": {
      "name": "python"
    }
  },
  "nbformat": 4,
  "nbformat_minor": 0
}